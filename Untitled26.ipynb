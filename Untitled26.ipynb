{
  "nbformat": 4,
  "nbformat_minor": 0,
  "metadata": {
    "colab": {
      "provenance": [],
      "authorship_tag": "ABX9TyOGMXuTUvwVmKz+FodIijvO",
      "include_colab_link": true
    },
    "kernelspec": {
      "name": "python3",
      "display_name": "Python 3"
    },
    "language_info": {
      "name": "python"
    }
  },
  "cells": [
    {
      "cell_type": "markdown",
      "metadata": {
        "id": "view-in-github",
        "colab_type": "text"
      },
      "source": [
        "<a href=\"https://colab.research.google.com/github/VedTiwari278/Threading/blob/main/Untitled26.ipynb\" target=\"_parent\"><img src=\"https://colab.research.google.com/assets/colab-badge.svg\" alt=\"Open In Colab\"/></a>"
      ]
    },
    {
      "cell_type": "code",
      "execution_count": null,
      "metadata": {
        "colab": {
          "base_uri": "https://localhost:8080/"
        },
        "id": "t4ux6uoEvsAQ",
        "outputId": "548157c0-d9fb-4851-a663-09a37debf316"
      },
      "outputs": [
        {
          "output_type": "stream",
          "name": "stdout",
          "text": [
            "Sleeping for 4 seconds\n",
            "Sleeping for 2 seconds\n",
            "Sleeping for 1 secondsMainThread\n",
            "\n"
          ]
        },
        {
          "output_type": "stream",
          "name": "stderr",
          "text": [
            "<ipython-input-14-73c3ace36dfa>:16: DeprecationWarning: getName() is deprecated, get the name attribute instead\n",
            "  print(threading.current_thread().getName())\n"
          ]
        },
        {
          "output_type": "stream",
          "name": "stdout",
          "text": [
            "4.003257933999976\n",
            "False\n"
          ]
        }
      ],
      "source": [
        "import threading\n",
        "import time\n",
        "\n",
        "def fun(second):\n",
        "    print(f\"Sleeping for {second} seconds\")\n",
        "    time.sleep(second)\n",
        "\n",
        "time1 = time.perf_counter()\n",
        "t1 = threading.Thread(target=fun, args=[4])\n",
        "t2 = threading.Thread(target=fun, args=[2])\n",
        "t3 = threading.Thread(target=fun, args=[1])\n",
        "\n",
        "t1.start()\n",
        "t2.start()\n",
        "t3.start()\n",
        "print(threading.current_thread().getName())\n",
        "t1.join()\n",
        "t2.join()\n",
        "t3.join()\n",
        "\n",
        "time2 = time.perf_counter()\n",
        "print(time2 - time1)\n",
        "\n",
        "print(t1.is_alive())\n",
        "\n"
      ]
    },
    {
      "cell_type": "code",
      "source": [],
      "metadata": {
        "id": "IvYPF3jcya7Y"
      },
      "execution_count": null,
      "outputs": []
    },
    {
      "cell_type": "code",
      "source": [
        "import threading\n",
        "\n",
        "def my_function():\n",
        "    print(\"Hello from thread\", threading.current_thread().getName())\n",
        "\n",
        "# Create a thread and set its name\n",
        "my_thread = threading.Thread(target=my_function)\n",
        "my_thread.setName(\"CustomThread\")\n",
        "\n",
        "# Start the thread\n",
        "my_thread.start()\n",
        "\n",
        "# Wait for the thread to finish\n",
        "my_thread.join()\n"
      ],
      "metadata": {
        "colab": {
          "base_uri": "https://localhost:8080/"
        },
        "id": "guVeEaAzyc5k",
        "outputId": "32e7b34b-a7de-4f79-addd-6b157f78da88"
      },
      "execution_count": null,
      "outputs": [
        {
          "output_type": "stream",
          "name": "stdout",
          "text": [
            "Hello from thread CustomThread\n"
          ]
        },
        {
          "output_type": "stream",
          "name": "stderr",
          "text": [
            "<ipython-input-15-21deedd7ab55>:8: DeprecationWarning: setName() is deprecated, set the name attribute instead\n",
            "  my_thread.setName(\"CustomThread\")\n",
            "<ipython-input-15-21deedd7ab55>:4: DeprecationWarning: getName() is deprecated, get the name attribute instead\n",
            "  print(\"Hello from thread\", threading.current_thread().getName())\n"
          ]
        }
      ]
    },
    {
      "cell_type": "code",
      "source": [
        "import threading\n",
        "def add():\n",
        "    print(\"Hello world from\",threading.current_thread().getName())\n",
        "\n",
        "mythread=threading.Thread(target=add)\n",
        "mythread.setName(\"CusttomNAme\")\n",
        "mythread.start()\n",
        "mythread.join()"
      ],
      "metadata": {
        "colab": {
          "base_uri": "https://localhost:8080/"
        },
        "id": "bFYcSo7_y38g",
        "outputId": "87e9c0af-4f34-44ba-fbf7-1f0c7a078432"
      },
      "execution_count": null,
      "outputs": [
        {
          "output_type": "stream",
          "name": "stdout",
          "text": [
            "Hello world from CusttomNAme\n"
          ]
        },
        {
          "output_type": "stream",
          "name": "stderr",
          "text": [
            "<ipython-input-20-4a4acdb79384>:6: DeprecationWarning: setName() is deprecated, set the name attribute instead\n",
            "  mythread.setName(\"CusttomNAme\")\n",
            "<ipython-input-20-4a4acdb79384>:3: DeprecationWarning: getName() is deprecated, get the name attribute instead\n",
            "  print(\"Hello world from\",threading.current_thread().getName())\n"
          ]
        }
      ]
    }
  ]
}